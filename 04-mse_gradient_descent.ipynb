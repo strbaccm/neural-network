{
 "cells": [
  {
   "cell_type": "markdown",
   "metadata": {},
   "source": [
    "**Zadatak:**\n",
    "\n",
    "Koristeći gradijentni spust i srednju kvadratnu grešku (mean squared error) aproksimirati parametre linearne regresije: <br> $y=ax+b$.\n",
    "\n",
    "*a - weight; b - bias*"
   ]
  },
  {
   "cell_type": "code",
   "execution_count": 4,
   "metadata": {},
   "outputs": [],
   "source": [
    "import numpy as np\n",
    "import random"
   ]
  },
  {
   "cell_type": "code",
   "execution_count": 5,
   "metadata": {},
   "outputs": [],
   "source": [
    "def mse(y_true, y_pred):\n",
    "    return np.mean(np.power(y_true-y_pred, 2))/2\n",
    "\n",
    "def mse_prime(y_true, y_pred):\n",
    "    return (y_pred-y_true)/y_true.size"
   ]
  },
  {
   "cell_type": "code",
   "execution_count": 6,
   "metadata": {},
   "outputs": [],
   "source": [
    "def update(w, b, learning_rate, error, x_i):\n",
    "    w -= learning_rate*(error*x_i) # azuriranje tezine\n",
    "    b -= learning_rate*error # azuriranje bias-a\n",
    "    return w, b"
   ]
  },
  {
   "cell_type": "code",
   "execution_count": 28,
   "metadata": {},
   "outputs": [],
   "source": [
    "def stohastic_gradient_descent(x, y, learning_rate, epoch):\n",
    "    # inicijalizacija w, b\n",
    "    w, b = random.randint(-1,1), random.randint(-1,1)\n",
    "\n",
    "    x = np.array(x)\n",
    "    y = np.array(y)\n",
    "    \n",
    "    for e in range(epoch):\n",
    "        i = random.choice(range(len(x)))\n",
    "\n",
    "        # forward pass\n",
    "        y_predicted = w*x[i] + b\n",
    "\n",
    "        # backpropagation \n",
    "        error = mse_prime(y[i], y_predicted) # greska izmedju stvarne i predvidjene vrijednosti\n",
    "        w, b = update(w, b, learning_rate, error, x[i]) # gradijent greske u odnosu na w, b\n",
    "        \n",
    "        if e % 100 == 0:\n",
    "            print(f'epoch: {e}, w = {round(w, 4)}, b = {round(b, 4)}')\n",
    "        \n",
    "\n",
    "    # predict\n",
    "    y_predicted = w*x + b      \n",
    "    \n",
    "    return w, b, np.round(y_predicted, 4)"
   ]
  },
  {
   "cell_type": "code",
   "execution_count": 29,
   "metadata": {},
   "outputs": [],
   "source": [
    "x = [1, -2, 3, -4]\n",
    "y = [7, -2, 13, -8]"
   ]
  },
  {
   "cell_type": "code",
   "execution_count": 30,
   "metadata": {},
   "outputs": [
    {
     "name": "stdout",
     "output_type": "stream",
     "text": [
      "epoch: 0, w = -0.982, b = -0.982\n",
      "epoch: 100, w = 1.9872, b = -0.2892\n",
      "epoch: 200, w = 2.4924, b = 0.4346\n",
      "epoch: 300, w = 2.8458, b = 1.0784\n",
      "epoch: 400, w = 2.8487, b = 1.6023\n",
      "epoch: 500, w = 2.8101, b = 2.0132\n",
      "epoch: 600, w = 2.8184, b = 2.3582\n",
      "epoch: 700, w = 2.8688, b = 2.636\n",
      "epoch: 800, w = 2.9191, b = 2.874\n",
      "epoch: 900, w = 2.9148, b = 3.0724\n",
      "epoch: 1000, w = 2.8818, b = 3.2189\n",
      "epoch: 1100, w = 2.941, b = 3.3583\n",
      "epoch: 1200, w = 2.955, b = 3.4688\n",
      "epoch: 1300, w = 2.9597, b = 3.5605\n",
      "epoch: 1400, w = 2.9792, b = 3.6375\n",
      "epoch: 1500, w = 2.9843, b = 3.7023\n",
      "epoch: 1600, w = 2.9875, b = 3.7555\n",
      "epoch: 1700, w = 2.9859, b = 3.7982\n",
      "epoch: 1800, w = 2.9758, b = 3.8307\n",
      "epoch: 1900, w = 2.9829, b = 3.8597\n"
     ]
    }
   ],
   "source": [
    "w, b, y_trained = stohastic_gradient_descent(x, y, 0.002, 2000)"
   ]
  },
  {
   "cell_type": "code",
   "execution_count": 31,
   "metadata": {},
   "outputs": [
    {
     "name": "stdout",
     "output_type": "stream",
     "text": [
      "w = 2.9896, b = 3.8839\n"
     ]
    }
   ],
   "source": [
    "print(f'w = {round(w, 4)}, b = {round(b, 4)}')"
   ]
  },
  {
   "cell_type": "code",
   "execution_count": 32,
   "metadata": {},
   "outputs": [
    {
     "name": "stdout",
     "output_type": "stream",
     "text": [
      "y = [7, -2, 13, -8]\n",
      "y_trained = [ 6.8736 -2.0953 12.8528 -8.0746]\n"
     ]
    }
   ],
   "source": [
    "print(f'y = {y}\\ny_trained = {y_trained}')"
   ]
  }
 ],
 "metadata": {
  "kernelspec": {
   "display_name": "ttt",
   "language": "python",
   "name": "python3"
  },
  "language_info": {
   "codemirror_mode": {
    "name": "ipython",
    "version": 3
   },
   "file_extension": ".py",
   "mimetype": "text/x-python",
   "name": "python",
   "nbconvert_exporter": "python",
   "pygments_lexer": "ipython3",
   "version": "3.10.12"
  },
  "orig_nbformat": 4,
  "vscode": {
   "interpreter": {
    "hash": "4e836f20cc9888882c44ce73378b207b8dc7ca0037f543abb654469152fc65f2"
   }
  }
 },
 "nbformat": 4,
 "nbformat_minor": 2
}
