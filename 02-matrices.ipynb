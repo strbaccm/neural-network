{
 "cells": [
  {
   "attachments": {},
   "cell_type": "markdown",
   "metadata": {},
   "source": [
    "**Zadatak:**\n",
    "\n",
    "Napiši funkciju *n_dot_products()* koja kao parametar uzima prirodan broj $n$. Funkcija bi trebala da napravi nasumičan vektor dimenzija $n\\times1$ i množi ga sa nasumičnom matricom odgovarajućih dimenzija kako bi se dobio vektor dimenzije $(n-1)\\times1$. Dalje se taj vektor množi sa nasumičnim matricama tako da mu se broj redova smanjuje dok ne dođe na 1 tj. dok ne postane formata $1\\times1$. Pokušati imitirati korištenje funkcija aktivacija u neuronskoj mreži kako se ne bi dobio prevelik broj."
   ]
  },
  {
   "cell_type": "code",
   "execution_count": 1,
   "metadata": {},
   "outputs": [],
   "source": [
    "import numpy as np"
   ]
  },
  {
   "cell_type": "code",
   "execution_count": 142,
   "metadata": {},
   "outputs": [],
   "source": [
    "def n_dot_products(n):\n",
    "    dot_product = (np.random.rand(n,1)-0.5)*10\n",
    "\n",
    "    while n > 1:\n",
    "        matrix = (np.random.rand(n-1, n)-0.5)*10\n",
    "\n",
    "        dot_product = np.tanh(np.dot(matrix, dot_product))\n",
    "\n",
    "        n-=1\n",
    "\n",
    "    return dot_product"
   ]
  },
  {
   "cell_type": "code",
   "execution_count": 143,
   "metadata": {},
   "outputs": [
    {
     "data": {
      "text/plain": [
       "array([[0.9719256]])"
      ]
     },
     "execution_count": 143,
     "metadata": {},
     "output_type": "execute_result"
    }
   ],
   "source": [
    "n_dot_products(5)"
   ]
  }
 ],
 "metadata": {
  "kernelspec": {
   "display_name": "nn_test",
   "language": "python",
   "name": "python3"
  },
  "language_info": {
   "codemirror_mode": {
    "name": "ipython",
    "version": 3
   },
   "file_extension": ".py",
   "mimetype": "text/x-python",
   "name": "python",
   "nbconvert_exporter": "python",
   "pygments_lexer": "ipython3",
   "version": "3.10.12"
  },
  "orig_nbformat": 4,
  "vscode": {
   "interpreter": {
    "hash": "26bef86906949c8a21c0295b45a023eccc32d68f686b6f20cd5b8d412da7414a"
   }
  }
 },
 "nbformat": 4,
 "nbformat_minor": 2
}
