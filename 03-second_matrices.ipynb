{
 "cells": [
  {
   "attachments": {},
   "cell_type": "markdown",
   "metadata": {},
   "source": [
    "**Zadatak:**\n",
    "\n",
    "Kreiraj dvije matrice formata $10\\times5$ koje u svakom redu sadrže nasumične brojeve od 0 do 100. Pronaći gdje matrice A i B imaju maksimalne elemente vrsti na istim pozicijama, tj. u istoj koloni za istu vrstu. Pokušaj da ne koristiš petlje pri pronalsku pozicija."
   ]
  },
  {
   "cell_type": "code",
   "execution_count": null,
   "metadata": {},
   "outputs": [],
   "source": [
    "import numpy as np\n",
    "from tensorflow.keras.utils import to_categorical"
   ]
  },
  {
   "cell_type": "code",
   "execution_count": 4,
   "metadata": {},
   "outputs": [],
   "source": [
    "mat_a = (np.random.rand(10, 5) * 100).astype('int64')\n",
    "mat_b = (np.random.rand(10, 5) * 100).astype('int64')"
   ]
  },
  {
   "cell_type": "code",
   "execution_count": 6,
   "metadata": {},
   "outputs": [],
   "source": [
    "mat_a_max_per_row = to_categorical(np.argmax(mat_a, axis=1), 5)\n",
    "mat_b_max_per_row = to_categorical(np.argmax(mat_b, axis=1), 5)"
   ]
  },
  {
   "cell_type": "code",
   "execution_count": 7,
   "metadata": {},
   "outputs": [
    {
     "name": "stdout",
     "output_type": "stream",
     "text": [
      "[[0. 0. 0. 2. 0.]\n",
      " [0. 0. 1. 0. 1.]\n",
      " [0. 1. 1. 0. 0.]\n",
      " [0. 0. 1. 0. 1.]\n",
      " [1. 0. 0. 1. 0.]\n",
      " [2. 0. 0. 0. 0.]\n",
      " [1. 0. 0. 1. 0.]\n",
      " [1. 0. 0. 1. 0.]\n",
      " [0. 0. 0. 0. 2.]\n",
      " [0. 1. 1. 0. 0.]]\n"
     ]
    }
   ],
   "source": [
    "result = mat_a_max_per_row + mat_b_max_per_row\n",
    "print(result)"
   ]
  },
  {
   "cell_type": "code",
   "execution_count": 9,
   "metadata": {},
   "outputs": [
    {
     "name": "stdout",
     "output_type": "stream",
     "text": [
      "(array([0, 5, 8]), array([3, 0, 4]))\n"
     ]
    }
   ],
   "source": [
    "AB_max_per_row = np.where(result==2)\n",
    "print(AB_max_per_row)"
   ]
  },
  {
   "cell_type": "code",
   "execution_count": 10,
   "metadata": {},
   "outputs": [
    {
     "name": "stdout",
     "output_type": "stream",
     "text": [
      "pozicije: [(0, 3), (5, 0), (8, 4)]\n"
     ]
    }
   ],
   "source": [
    "AB_max_per_row_pos = list(zip(AB_max_per_row[0], AB_max_per_row[1]))\n",
    "print(\"pozicije:\", AB_max_per_row_pos)"
   ]
  }
 ],
 "metadata": {
  "kernelspec": {
   "display_name": "ai_python",
   "language": "python",
   "name": "python3"
  },
  "language_info": {
   "codemirror_mode": {
    "name": "ipython",
    "version": 3
   },
   "file_extension": ".py",
   "mimetype": "text/x-python",
   "name": "python",
   "nbconvert_exporter": "python",
   "pygments_lexer": "ipython3",
   "version": "3.10.12"
  },
  "orig_nbformat": 4,
  "vscode": {
   "interpreter": {
    "hash": "53e26e92eb047fac0a8b0208801dfe952f4f8952e82e087046918172140b19c2"
   }
  }
 },
 "nbformat": 4,
 "nbformat_minor": 2
}
