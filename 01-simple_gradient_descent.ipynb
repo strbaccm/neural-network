{
 "cells": [
  {
   "attachments": {},
   "cell_type": "markdown",
   "metadata": {},
   "source": [
    "**Zadatak:**\n",
    "\n",
    "Napiši funkciju koja nalazi minimum funkcije sa dvije varijable koristeći gradijentni spust. Uz pomoć nje aproksimiraj minimum funkcije:<br>  $f(x,y)=x^2(y^2+1)-4x$."
   ]
  },
  {
   "attachments": {},
   "cell_type": "markdown",
   "metadata": {},
   "source": [
    "Bez korištenja *numpy* biblioteke:"
   ]
  },
  {
   "cell_type": "code",
   "execution_count": 125,
   "metadata": {},
   "outputs": [],
   "source": [
    "def get_derivative(point):\n",
    "    x = point[0]\n",
    "    y = point[1]\n",
    "    return (2*x*(y**2 + 1) - 4, 2*x**2*y)\n",
    "\n",
    "def gradient_descent(point, derivative, learning_rate, epoch):\n",
    "    for i in range(epoch):\n",
    "        derivatives = derivative(point)\n",
    "        point = (point[0] - learning_rate*derivatives[0], point[1] - learning_rate*derivatives[1])\n",
    "        \n",
    "        if i % 100 == 0:\n",
    "            print(f\"epoch: {i}, point: {(round(point[0], 5), round(point[1], 5))}\")\n",
    "\n",
    "    return (round(point[0], 5), round(point[1], 5))"
   ]
  },
  {
   "cell_type": "code",
   "execution_count": 126,
   "metadata": {},
   "outputs": [
    {
     "name": "stdout",
     "output_type": "stream",
     "text": [
      "epoch: 0, point: (4.834, 3.8)\n",
      "epoch: 100, point: (2.73189, 0.47327)\n",
      "epoch: 200, point: (2.56467, 0.11647)\n",
      "epoch: 300, point: (2.46006, 0.03275)\n",
      "epoch: 400, point: (2.37641, 0.01011)\n",
      "epoch: 500, point: (2.3081, 0.00336)\n",
      "epoch: 600, point: (2.2522, 0.00118)\n",
      "epoch: 700, point: (2.20644, 0.00043)\n",
      "epoch: 800, point: (2.16899, 0.00017)\n",
      "epoch: 900, point: (2.13833, 7e-05)\n",
      "epoch: 1000, point: (2.11323, 3e-05)\n",
      "epoch: 1100, point: (2.09269, 1e-05)\n",
      "epoch: 1200, point: (2.07587, 0.0)\n",
      "epoch: 1300, point: (2.0621, 0.0)\n",
      "epoch: 1400, point: (2.05084, 0.0)\n",
      "epoch: 1500, point: (2.04161, 0.0)\n",
      "epoch: 1600, point: (2.03406, 0.0)\n",
      "epoch: 1700, point: (2.02788, 0.0)\n",
      "epoch: 1800, point: (2.02282, 0.0)\n",
      "epoch: 1900, point: (2.01868, 0.0)\n"
     ]
    },
    {
     "data": {
      "text/plain": [
       "(2.01532, 0.0)"
      ]
     },
     "execution_count": 126,
     "metadata": {},
     "output_type": "execute_result"
    }
   ],
   "source": [
    "gradient_descent((5, 4), get_derivative, 0.001, 2000)"
   ]
  },
  {
   "attachments": {},
   "cell_type": "markdown",
   "metadata": {},
   "source": [
    "Sa *numpy* funkcijama:"
   ]
  },
  {
   "cell_type": "code",
   "execution_count": 127,
   "metadata": {},
   "outputs": [],
   "source": [
    "import numpy as np"
   ]
  },
  {
   "cell_type": "code",
   "execution_count": 153,
   "metadata": {},
   "outputs": [],
   "source": [
    "def get_derivative(point):\n",
    "    x = point[0]\n",
    "    y = point[1]\n",
    "    return np.array((2*x*(y**2+1) - 4, 2*x**2*y))\n",
    "\n",
    "def gradient_descent_np(point, derivative, learning_rate, epoch):\n",
    "    for i in range(epoch):\n",
    "        point -= learning_rate * derivative(point)\n",
    "\n",
    "        if i % 100 == 0:\n",
    "            print(f\"epoch: {i}, point: {np.around(point, 5)}\")\n",
    "        \n",
    "    return np.around(point, 5)"
   ]
  },
  {
   "cell_type": "code",
   "execution_count": 154,
   "metadata": {},
   "outputs": [
    {
     "name": "stdout",
     "output_type": "stream",
     "text": [
      "epoch: 0, point: [4.834 3.8  ]\n",
      "epoch: 100, point: [2.73189 0.47327]\n",
      "epoch: 200, point: [2.56467 0.11647]\n",
      "epoch: 300, point: [2.46006 0.03275]\n",
      "epoch: 400, point: [2.37641 0.01011]\n",
      "epoch: 500, point: [2.3081  0.00336]\n",
      "epoch: 600, point: [2.2522e+00 1.1800e-03]\n",
      "epoch: 700, point: [2.20644e+00 4.30000e-04]\n",
      "epoch: 800, point: [2.16899e+00 1.70000e-04]\n",
      "epoch: 900, point: [2.13833e+00 7.00000e-05]\n",
      "epoch: 1000, point: [2.11323e+00 3.00000e-05]\n",
      "epoch: 1100, point: [2.09269e+00 1.00000e-05]\n",
      "epoch: 1200, point: [2.07587 0.     ]\n",
      "epoch: 1300, point: [2.0621 0.    ]\n",
      "epoch: 1400, point: [2.05084 0.     ]\n",
      "epoch: 1500, point: [2.04161 0.     ]\n",
      "epoch: 1600, point: [2.03406 0.     ]\n",
      "epoch: 1700, point: [2.02788 0.     ]\n",
      "epoch: 1800, point: [2.02282 0.     ]\n",
      "epoch: 1900, point: [2.01868 0.     ]\n"
     ]
    },
    {
     "data": {
      "text/plain": [
       "array([2.01532, 0.     ])"
      ]
     },
     "execution_count": 154,
     "metadata": {},
     "output_type": "execute_result"
    }
   ],
   "source": [
    "gradient_descent_np((5, 4), get_derivative, 0.001, 2000)"
   ]
  },
  {
   "cell_type": "markdown",
   "metadata": {},
   "source": [
    "Koristeći *sympy* biblioteku:"
   ]
  },
  {
   "cell_type": "code",
   "execution_count": 172,
   "metadata": {},
   "outputs": [
    {
     "name": "stdout",
     "output_type": "stream",
     "text": [
      "fx = 2*x*(y**2 + 1) - 4\n",
      "fy = 2*x**2*y\n"
     ]
    }
   ],
   "source": [
    "import sympy as sp\n",
    "\n",
    "x, y = sp.symbols('x y')\n",
    "f = x**2 * (y**2 + 1) - 4*x # sympy izraz\n",
    "\n",
    "dx = sp.diff(f, x) # izvod po x\n",
    "dy = sp.diff(f, y) # izvod po y\n",
    "print(f\"fx = {dx}\")\n",
    "print(f\"fy = {dy}\")"
   ]
  },
  {
   "cell_type": "code",
   "execution_count": 173,
   "metadata": {},
   "outputs": [
    {
     "name": "stdout",
     "output_type": "stream",
     "text": [
      "epoch: 0, point: [4.834 3.8  ]\n",
      "epoch: 100, point: [2.73189 0.47327]\n",
      "epoch: 200, point: [2.56467 0.11647]\n",
      "epoch: 300, point: [2.46006 0.03275]\n",
      "epoch: 400, point: [2.37641 0.01011]\n",
      "epoch: 500, point: [2.3081  0.00336]\n",
      "epoch: 600, point: [2.2522e+00 1.1800e-03]\n",
      "epoch: 700, point: [2.20644e+00 4.30000e-04]\n",
      "epoch: 800, point: [2.16899e+00 1.70000e-04]\n",
      "epoch: 900, point: [2.13833e+00 7.00000e-05]\n",
      "epoch: 1000, point: [2.11323e+00 3.00000e-05]\n",
      "epoch: 1100, point: [2.09269e+00 1.00000e-05]\n",
      "epoch: 1200, point: [2.07587 0.     ]\n",
      "epoch: 1300, point: [2.0621 0.    ]\n",
      "epoch: 1400, point: [2.05084 0.     ]\n",
      "epoch: 1500, point: [2.04161 0.     ]\n",
      "epoch: 1600, point: [2.03406 0.     ]\n",
      "epoch: 1700, point: [2.02788 0.     ]\n",
      "epoch: 1800, point: [2.02282 0.     ]\n",
      "epoch: 1900, point: [2.01868 0.     ]\n"
     ]
    },
    {
     "data": {
      "text/plain": [
       "array([2.01532, 0.     ])"
      ]
     },
     "execution_count": 173,
     "metadata": {},
     "output_type": "execute_result"
    }
   ],
   "source": [
    "fpx = sp.lambdify((x, y), dx) # lambda funkcija za dx\n",
    "fpy = sp.lambdify((x, y), dy) # lambda funkcija za dy\n",
    "\n",
    "def get_derivative(point):\n",
    "    x = point[0]\n",
    "    y = point[1]\n",
    "    return np.array((fpx(x, y), fpy(x, y)))\n",
    "\n",
    "gradient_descent_np((5, 4), get_derivative, 0.001, 2000)"
   ]
  },
  {
   "cell_type": "code",
   "execution_count": null,
   "metadata": {},
   "outputs": [],
   "source": []
  }
 ],
 "metadata": {
  "kernelspec": {
   "display_name": "ai_python",
   "language": "python",
   "name": "python3"
  },
  "language_info": {
   "codemirror_mode": {
    "name": "ipython",
    "version": 3
   },
   "file_extension": ".py",
   "mimetype": "text/x-python",
   "name": "python",
   "nbconvert_exporter": "python",
   "pygments_lexer": "ipython3",
   "version": "3.10.12"
  },
  "orig_nbformat": 4,
  "vscode": {
   "interpreter": {
    "hash": "53e26e92eb047fac0a8b0208801dfe952f4f8952e82e087046918172140b19c2"
   }
  }
 },
 "nbformat": 4,
 "nbformat_minor": 2
}
